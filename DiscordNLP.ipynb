{
  "nbformat": 4,
  "nbformat_minor": 0,
  "metadata": {
    "colab": {
      "provenance": [],
      "gpuType": "T4"
    },
    "kernelspec": {
      "name": "python3",
      "display_name": "Python 3"
    },
    "language_info": {
      "name": "python"
    },
    "accelerator": "GPU"
  },
  "cells": [
    {
      "cell_type": "markdown",
      "source": [
        "# Load and clean data from JSON"
      ],
      "metadata": {
        "id": "mHM2ZRQ8SeC8"
      }
    },
    {
      "cell_type": "code",
      "execution_count": 49,
      "metadata": {
        "id": "UvbkIEo2MEmv"
      },
      "outputs": [],
      "source": [
        "# Load the data in from Json file\n",
        "import json\n",
        "with open(\"sample.json\", \"r+\") as file:\n",
        "#   for line in file:\n",
        "#     print(line)\n",
        "  text_data = json.load(file)"
      ]
    },
    {
      "cell_type": "code",
      "source": [
        "# Create a dataframe of the text\n",
        "import pandas as pd\n",
        "\n",
        "orig_text_dataFrame = pd.DataFrame(text_data)\n",
        "orig_text_dataFrame.head()"
      ],
      "metadata": {
        "id": "9PaluuqBGD7X"
      },
      "execution_count": null,
      "outputs": []
    },
    {
      "cell_type": "code",
      "source": [
        "# get rid of unecessary values, Keep only content and author\n",
        "text_data_frame = orig_text_dataFrame[[\"content\", \"author\"]]\n",
        "text_data_frame.head()"
      ],
      "metadata": {
        "id": "Zw1-jZjxGfBw"
      },
      "execution_count": null,
      "outputs": []
    },
    {
      "cell_type": "code",
      "source": [
        "# Make author only the name\n",
        "\n",
        "for row in text_data_frame.itertuples():\n",
        "  x, content, author = row\n",
        "  text_data_frame.at[x, \"author\"] = author.get(\"username\")"
      ],
      "metadata": {
        "id": "wu7mzOe_G7V3"
      },
      "execution_count": 52,
      "outputs": []
    },
    {
      "cell_type": "code",
      "source": [
        "text_data_frame.head()"
      ],
      "metadata": {
        "id": "vDXgnfASHbzm"
      },
      "execution_count": null,
      "outputs": []
    },
    {
      "cell_type": "code",
      "source": [
        "# Check out how much data of each person we have\n",
        "text_data_frame[\"author\"].value_counts()"
      ],
      "metadata": {
        "id": "345ujC6VQGbZ",
        "colab": {
          "base_uri": "https://localhost:8080/"
        },
        "outputId": "f6b85381-a17c-4b48-c2aa-38ed2278e998"
      },
      "execution_count": 54,
      "outputs": [
        {
          "output_type": "execute_result",
          "data": {
            "text/plain": [
              "author\n",
              "Whale5152     26733\n",
              "El Pablo      10831\n",
              "CocoADTM      10551\n",
              "Bombard       10292\n",
              "Incognito      1639\n",
              "script         1426\n",
              "DETOXEDEGG      803\n",
              "sKy             581\n",
              "zootron         332\n",
              "xela            232\n",
              "Name: count, dtype: int64"
            ]
          },
          "metadata": {},
          "execution_count": 54
        }
      ]
    },
    {
      "cell_type": "code",
      "source": [
        "# Drop all the data for users who we are not training on: We are only trying for: Whale, El Pablo, CocoADTM, Bombard!\n",
        "\n",
        "text_data_frame = text_data_frame.loc[text_data_frame['author'].isin([\"Whale5152\", \"El Pablo\", \"CocoADTM\", \"Bombard\"])]\n",
        "text_data_frame\n",
        "text_data_frame[\"author\"].value_counts()"
      ],
      "metadata": {
        "id": "SWDhlgvjO6C5",
        "colab": {
          "base_uri": "https://localhost:8080/"
        },
        "outputId": "bcf6c150-83f3-4085-f3be-a797f46d25c3"
      },
      "execution_count": 55,
      "outputs": [
        {
          "output_type": "execute_result",
          "data": {
            "text/plain": [
              "author\n",
              "Whale5152    26733\n",
              "El Pablo     10831\n",
              "CocoADTM     10551\n",
              "Bombard      10292\n",
              "Name: count, dtype: int64"
            ]
          },
          "metadata": {},
          "execution_count": 55
        }
      ]
    },
    {
      "cell_type": "code",
      "source": [
        "# Stratify the sample to make it have equal examples of all data\n",
        "text_data_frame = text_data_frame.groupby('author', group_keys=False).apply(lambda x: x.sample(min(len(x), text_data_frame[\"author\"].value_counts().min()))) # Equal to the lowest amount of data for a person\n",
        "text_data_frame['author'].value_counts()"
      ],
      "metadata": {
        "id": "z_7q0AoGsScI",
        "colab": {
          "base_uri": "https://localhost:8080/"
        },
        "outputId": "59249a86-4438-4476-8305-d170b2ec8790"
      },
      "execution_count": 56,
      "outputs": [
        {
          "output_type": "execute_result",
          "data": {
            "text/plain": [
              "author\n",
              "Bombard      10292\n",
              "CocoADTM     10292\n",
              "El Pablo     10292\n",
              "Whale5152    10292\n",
              "Name: count, dtype: int64"
            ]
          },
          "metadata": {},
          "execution_count": 56
        }
      ]
    },
    {
      "cell_type": "code",
      "source": [
        "# Convert the authors / target labels to numbers\n",
        "text_data_frame[\"target\"] = text_data_frame.groupby(\"author\", sort=False).ngroup()\n",
        "text_data_frame[\"author\"][20000:20001], text_data_frame[\"target\"][20000:20001]"
      ],
      "metadata": {
        "id": "MVRsb-mXMIWv",
        "colab": {
          "base_uri": "https://localhost:8080/"
        },
        "outputId": "850d204c-c6d9-4a82-dfb2-4989002aae8b"
      },
      "execution_count": 57,
      "outputs": [
        {
          "output_type": "execute_result",
          "data": {
            "text/plain": [
              "(22907    CocoADTM\n",
              " Name: author, dtype: object,\n",
              " 22907    1\n",
              " Name: target, dtype: int64)"
            ]
          },
          "metadata": {},
          "execution_count": 57
        }
      ]
    },
    {
      "cell_type": "markdown",
      "source": [
        "## KEY:\n",
        "- 0 = Bombard\n",
        "- 1 = CocoADTM\n",
        "- 2 = El Pablo\n",
        "- 3 = Whale"
      ],
      "metadata": {
        "id": "E_rLz1bmR4Jp"
      }
    },
    {
      "cell_type": "code",
      "source": [
        "classes = [\"Bombard\", \"Coco\", \"El Pablo\", \"Whale\"] # edit this list with the names of users in data"
      ],
      "metadata": {
        "id": "ScEPrsZJuGDy"
      },
      "execution_count": 58,
      "outputs": []
    },
    {
      "cell_type": "code",
      "source": [
        "# Finalize the text_data\n",
        "text_data_frame = text_data_frame[[\"content\", \"target\"]]\n",
        "text_data_frame.head()"
      ],
      "metadata": {
        "id": "JZAs8f4-N8Gt",
        "colab": {
          "base_uri": "https://localhost:8080/",
          "height": 206
        },
        "outputId": "cfc61847-98df-4006-9803-fce1c51be826"
      },
      "execution_count": 59,
      "outputs": [
        {
          "output_type": "execute_result",
          "data": {
            "text/plain": [
              "                                                 content  target\n",
              "39347                              <@727735200221495306>       0\n",
              "32164                                               Or 1       0\n",
              "55477  https://tenor.com/view/bruh-wth-tom-cat-cat-gi...       0\n",
              "4508                                                 Why       0\n",
              "33593                                                lol       0"
            ],
            "text/html": [
              "\n",
              "  <div id=\"df-f90a4a9d-8350-48d4-9850-94d6714fc4c9\" class=\"colab-df-container\">\n",
              "    <div>\n",
              "<style scoped>\n",
              "    .dataframe tbody tr th:only-of-type {\n",
              "        vertical-align: middle;\n",
              "    }\n",
              "\n",
              "    .dataframe tbody tr th {\n",
              "        vertical-align: top;\n",
              "    }\n",
              "\n",
              "    .dataframe thead th {\n",
              "        text-align: right;\n",
              "    }\n",
              "</style>\n",
              "<table border=\"1\" class=\"dataframe\">\n",
              "  <thead>\n",
              "    <tr style=\"text-align: right;\">\n",
              "      <th></th>\n",
              "      <th>content</th>\n",
              "      <th>target</th>\n",
              "    </tr>\n",
              "  </thead>\n",
              "  <tbody>\n",
              "    <tr>\n",
              "      <th>39347</th>\n",
              "      <td>&lt;@727735200221495306&gt;</td>\n",
              "      <td>0</td>\n",
              "    </tr>\n",
              "    <tr>\n",
              "      <th>32164</th>\n",
              "      <td>Or 1</td>\n",
              "      <td>0</td>\n",
              "    </tr>\n",
              "    <tr>\n",
              "      <th>55477</th>\n",
              "      <td>https://tenor.com/view/bruh-wth-tom-cat-cat-gi...</td>\n",
              "      <td>0</td>\n",
              "    </tr>\n",
              "    <tr>\n",
              "      <th>4508</th>\n",
              "      <td>Why</td>\n",
              "      <td>0</td>\n",
              "    </tr>\n",
              "    <tr>\n",
              "      <th>33593</th>\n",
              "      <td>lol</td>\n",
              "      <td>0</td>\n",
              "    </tr>\n",
              "  </tbody>\n",
              "</table>\n",
              "</div>\n",
              "    <div class=\"colab-df-buttons\">\n",
              "\n",
              "  <div class=\"colab-df-container\">\n",
              "    <button class=\"colab-df-convert\" onclick=\"convertToInteractive('df-f90a4a9d-8350-48d4-9850-94d6714fc4c9')\"\n",
              "            title=\"Convert this dataframe to an interactive table.\"\n",
              "            style=\"display:none;\">\n",
              "\n",
              "  <svg xmlns=\"http://www.w3.org/2000/svg\" height=\"24px\" viewBox=\"0 -960 960 960\">\n",
              "    <path d=\"M120-120v-720h720v720H120Zm60-500h600v-160H180v160Zm220 220h160v-160H400v160Zm0 220h160v-160H400v160ZM180-400h160v-160H180v160Zm440 0h160v-160H620v160ZM180-180h160v-160H180v160Zm440 0h160v-160H620v160Z\"/>\n",
              "  </svg>\n",
              "    </button>\n",
              "\n",
              "  <style>\n",
              "    .colab-df-container {\n",
              "      display:flex;\n",
              "      gap: 12px;\n",
              "    }\n",
              "\n",
              "    .colab-df-convert {\n",
              "      background-color: #E8F0FE;\n",
              "      border: none;\n",
              "      border-radius: 50%;\n",
              "      cursor: pointer;\n",
              "      display: none;\n",
              "      fill: #1967D2;\n",
              "      height: 32px;\n",
              "      padding: 0 0 0 0;\n",
              "      width: 32px;\n",
              "    }\n",
              "\n",
              "    .colab-df-convert:hover {\n",
              "      background-color: #E2EBFA;\n",
              "      box-shadow: 0px 1px 2px rgba(60, 64, 67, 0.3), 0px 1px 3px 1px rgba(60, 64, 67, 0.15);\n",
              "      fill: #174EA6;\n",
              "    }\n",
              "\n",
              "    .colab-df-buttons div {\n",
              "      margin-bottom: 4px;\n",
              "    }\n",
              "\n",
              "    [theme=dark] .colab-df-convert {\n",
              "      background-color: #3B4455;\n",
              "      fill: #D2E3FC;\n",
              "    }\n",
              "\n",
              "    [theme=dark] .colab-df-convert:hover {\n",
              "      background-color: #434B5C;\n",
              "      box-shadow: 0px 1px 3px 1px rgba(0, 0, 0, 0.15);\n",
              "      filter: drop-shadow(0px 1px 2px rgba(0, 0, 0, 0.3));\n",
              "      fill: #FFFFFF;\n",
              "    }\n",
              "  </style>\n",
              "\n",
              "    <script>\n",
              "      const buttonEl =\n",
              "        document.querySelector('#df-f90a4a9d-8350-48d4-9850-94d6714fc4c9 button.colab-df-convert');\n",
              "      buttonEl.style.display =\n",
              "        google.colab.kernel.accessAllowed ? 'block' : 'none';\n",
              "\n",
              "      async function convertToInteractive(key) {\n",
              "        const element = document.querySelector('#df-f90a4a9d-8350-48d4-9850-94d6714fc4c9');\n",
              "        const dataTable =\n",
              "          await google.colab.kernel.invokeFunction('convertToInteractive',\n",
              "                                                    [key], {});\n",
              "        if (!dataTable) return;\n",
              "\n",
              "        const docLinkHtml = 'Like what you see? Visit the ' +\n",
              "          '<a target=\"_blank\" href=https://colab.research.google.com/notebooks/data_table.ipynb>data table notebook</a>'\n",
              "          + ' to learn more about interactive tables.';\n",
              "        element.innerHTML = '';\n",
              "        dataTable['output_type'] = 'display_data';\n",
              "        await google.colab.output.renderOutput(dataTable, element);\n",
              "        const docLink = document.createElement('div');\n",
              "        docLink.innerHTML = docLinkHtml;\n",
              "        element.appendChild(docLink);\n",
              "      }\n",
              "    </script>\n",
              "  </div>\n",
              "\n",
              "\n",
              "<div id=\"df-24add823-aa4e-45e5-8829-cb0082394a60\">\n",
              "  <button class=\"colab-df-quickchart\" onclick=\"quickchart('df-24add823-aa4e-45e5-8829-cb0082394a60')\"\n",
              "            title=\"Suggest charts\"\n",
              "            style=\"display:none;\">\n",
              "\n",
              "<svg xmlns=\"http://www.w3.org/2000/svg\" height=\"24px\"viewBox=\"0 0 24 24\"\n",
              "     width=\"24px\">\n",
              "    <g>\n",
              "        <path d=\"M19 3H5c-1.1 0-2 .9-2 2v14c0 1.1.9 2 2 2h14c1.1 0 2-.9 2-2V5c0-1.1-.9-2-2-2zM9 17H7v-7h2v7zm4 0h-2V7h2v10zm4 0h-2v-4h2v4z\"/>\n",
              "    </g>\n",
              "</svg>\n",
              "  </button>\n",
              "\n",
              "<style>\n",
              "  .colab-df-quickchart {\n",
              "      --bg-color: #E8F0FE;\n",
              "      --fill-color: #1967D2;\n",
              "      --hover-bg-color: #E2EBFA;\n",
              "      --hover-fill-color: #174EA6;\n",
              "      --disabled-fill-color: #AAA;\n",
              "      --disabled-bg-color: #DDD;\n",
              "  }\n",
              "\n",
              "  [theme=dark] .colab-df-quickchart {\n",
              "      --bg-color: #3B4455;\n",
              "      --fill-color: #D2E3FC;\n",
              "      --hover-bg-color: #434B5C;\n",
              "      --hover-fill-color: #FFFFFF;\n",
              "      --disabled-bg-color: #3B4455;\n",
              "      --disabled-fill-color: #666;\n",
              "  }\n",
              "\n",
              "  .colab-df-quickchart {\n",
              "    background-color: var(--bg-color);\n",
              "    border: none;\n",
              "    border-radius: 50%;\n",
              "    cursor: pointer;\n",
              "    display: none;\n",
              "    fill: var(--fill-color);\n",
              "    height: 32px;\n",
              "    padding: 0;\n",
              "    width: 32px;\n",
              "  }\n",
              "\n",
              "  .colab-df-quickchart:hover {\n",
              "    background-color: var(--hover-bg-color);\n",
              "    box-shadow: 0 1px 2px rgba(60, 64, 67, 0.3), 0 1px 3px 1px rgba(60, 64, 67, 0.15);\n",
              "    fill: var(--button-hover-fill-color);\n",
              "  }\n",
              "\n",
              "  .colab-df-quickchart-complete:disabled,\n",
              "  .colab-df-quickchart-complete:disabled:hover {\n",
              "    background-color: var(--disabled-bg-color);\n",
              "    fill: var(--disabled-fill-color);\n",
              "    box-shadow: none;\n",
              "  }\n",
              "\n",
              "  .colab-df-spinner {\n",
              "    border: 2px solid var(--fill-color);\n",
              "    border-color: transparent;\n",
              "    border-bottom-color: var(--fill-color);\n",
              "    animation:\n",
              "      spin 1s steps(1) infinite;\n",
              "  }\n",
              "\n",
              "  @keyframes spin {\n",
              "    0% {\n",
              "      border-color: transparent;\n",
              "      border-bottom-color: var(--fill-color);\n",
              "      border-left-color: var(--fill-color);\n",
              "    }\n",
              "    20% {\n",
              "      border-color: transparent;\n",
              "      border-left-color: var(--fill-color);\n",
              "      border-top-color: var(--fill-color);\n",
              "    }\n",
              "    30% {\n",
              "      border-color: transparent;\n",
              "      border-left-color: var(--fill-color);\n",
              "      border-top-color: var(--fill-color);\n",
              "      border-right-color: var(--fill-color);\n",
              "    }\n",
              "    40% {\n",
              "      border-color: transparent;\n",
              "      border-right-color: var(--fill-color);\n",
              "      border-top-color: var(--fill-color);\n",
              "    }\n",
              "    60% {\n",
              "      border-color: transparent;\n",
              "      border-right-color: var(--fill-color);\n",
              "    }\n",
              "    80% {\n",
              "      border-color: transparent;\n",
              "      border-right-color: var(--fill-color);\n",
              "      border-bottom-color: var(--fill-color);\n",
              "    }\n",
              "    90% {\n",
              "      border-color: transparent;\n",
              "      border-bottom-color: var(--fill-color);\n",
              "    }\n",
              "  }\n",
              "</style>\n",
              "\n",
              "  <script>\n",
              "    async function quickchart(key) {\n",
              "      const quickchartButtonEl =\n",
              "        document.querySelector('#' + key + ' button');\n",
              "      quickchartButtonEl.disabled = true;  // To prevent multiple clicks.\n",
              "      quickchartButtonEl.classList.add('colab-df-spinner');\n",
              "      try {\n",
              "        const charts = await google.colab.kernel.invokeFunction(\n",
              "            'suggestCharts', [key], {});\n",
              "      } catch (error) {\n",
              "        console.error('Error during call to suggestCharts:', error);\n",
              "      }\n",
              "      quickchartButtonEl.classList.remove('colab-df-spinner');\n",
              "      quickchartButtonEl.classList.add('colab-df-quickchart-complete');\n",
              "    }\n",
              "    (() => {\n",
              "      let quickchartButtonEl =\n",
              "        document.querySelector('#df-24add823-aa4e-45e5-8829-cb0082394a60 button');\n",
              "      quickchartButtonEl.style.display =\n",
              "        google.colab.kernel.accessAllowed ? 'block' : 'none';\n",
              "    })();\n",
              "  </script>\n",
              "</div>\n",
              "\n",
              "    </div>\n",
              "  </div>\n"
            ],
            "application/vnd.google.colaboratory.intrinsic+json": {
              "type": "dataframe",
              "variable_name": "text_data_frame",
              "summary": "{\n  \"name\": \"text_data_frame\",\n  \"rows\": 41168,\n  \"fields\": [\n    {\n      \"column\": \"content\",\n      \"properties\": {\n        \"dtype\": \"string\",\n        \"num_unique_values\": 26659,\n        \"samples\": [\n          \"i was walking dog\",\n          \"Practice in the car\",\n          \"HEHEHE\"\n        ],\n        \"semantic_type\": \"\",\n        \"description\": \"\"\n      }\n    },\n    {\n      \"column\": \"target\",\n      \"properties\": {\n        \"dtype\": \"number\",\n        \"std\": 1,\n        \"min\": 0,\n        \"max\": 3,\n        \"num_unique_values\": 4,\n        \"samples\": [\n          1,\n          3,\n          0\n        ],\n        \"semantic_type\": \"\",\n        \"description\": \"\"\n      }\n    }\n  ]\n}"
            }
          },
          "metadata": {},
          "execution_count": 59
        }
      ]
    },
    {
      "cell_type": "markdown",
      "source": [
        "# Create training and validation splits"
      ],
      "metadata": {
        "id": "A-GAR7b1SjvU"
      }
    },
    {
      "cell_type": "code",
      "source": [
        "from sklearn.model_selection import train_test_split\n",
        "\n",
        "train_sentences, test_sentences, train_labels, test_labels = train_test_split(text_data_frame[\"content\"], text_data_frame[\"target\"], test_size=0.2, random_state=42)\n",
        "\n",
        "len(train_sentences), len(test_sentences), len(train_labels), len(test_labels)"
      ],
      "metadata": {
        "id": "ymA0_KyrSl56",
        "colab": {
          "base_uri": "https://localhost:8080/"
        },
        "outputId": "50466fae-6883-4acb-c160-da5187186b8b"
      },
      "execution_count": 60,
      "outputs": [
        {
          "output_type": "execute_result",
          "data": {
            "text/plain": [
              "(32934, 8234, 32934, 8234)"
            ]
          },
          "metadata": {},
          "execution_count": 60
        }
      ]
    },
    {
      "cell_type": "code",
      "source": [
        "import tensorflow\n",
        "from sklearn import metrics\n",
        "# Create function to evaluate all of our models\n",
        "def evaluate(y_labels, y_preds):\n",
        "  \"\"\"\n",
        "  Calculates model accuracy.\n",
        "  \"\"\"\n",
        "\n",
        "\n",
        "  accuracy_score = metrics.accuracy_score(y_labels, y_preds) * 100\n",
        "\n",
        "  return {\"accuracy\": accuracy_score}"
      ],
      "metadata": {
        "id": "wYQl8k88dnKW"
      },
      "execution_count": 61,
      "outputs": []
    },
    {
      "cell_type": "code",
      "source": [
        "# Predict func to view multiple predictions at once\n",
        "def predict(model, sentences):\n",
        "  pred_probs = model.predict(sentences)\n",
        "  preds = tf.squeeze(tf.argmax(pred_probs, axis=1))\n",
        "\n",
        "  for x, pred in enumerate(preds):\n",
        "    print(f\"Sentence:{sentences[x]} \\nPrediction: {classes[pred]}\\n-----------\\n\")"
      ],
      "metadata": {
        "id": "MYAXJIN-uZAA"
      },
      "execution_count": 62,
      "outputs": []
    },
    {
      "cell_type": "markdown",
      "source": [
        "# Utilize USE model to create a model to train on"
      ],
      "metadata": {
        "id": "UtygWBJjXNUO"
      }
    },
    {
      "cell_type": "markdown",
      "source": [
        "## model_1:\n",
        "- USE LAYER\n",
        "- 4 Dense layers"
      ],
      "metadata": {
        "id": "8_ZNN63CZfXZ"
      }
    },
    {
      "cell_type": "code",
      "source": [
        "# Import USE layer from tensorflow Hub\n",
        "import tensorflow as tf\n",
        "import tensorflow_hub as hub\n",
        "\n",
        "sentence_encoder_layer = hub.KerasLayer(\"https://tfhub.dev/google/universal-sentence-encoder/4\",\n",
        "                                        trainable = False,\n",
        "                                        input_shape = [],\n",
        "                                        dtype= tf.string)"
      ],
      "metadata": {
        "id": "dAFAn6MoXRuA"
      },
      "execution_count": 63,
      "outputs": []
    },
    {
      "cell_type": "code",
      "source": [
        "# Create a model using LSTM's\n",
        "from tensorflow.keras import layers\n",
        "import tensorflow as tf\n",
        "\n",
        "model_1 = tf.keras.Sequential([\n",
        "    sentence_encoder_layer,\n",
        "    layers.Dense(128, activation=\"relu\"),\n",
        "    layers.Dense(128, activation=\"relu\"),\n",
        "    layers.Dense(128, activation=\"relu\"),\n",
        "    layers.Dense(128, activation=\"relu\"),\n",
        "    layers.Dense(4, activation=\"softmax\")\n",
        "])"
      ],
      "metadata": {
        "id": "rlhrWFAmXYWx"
      },
      "execution_count": 64,
      "outputs": []
    },
    {
      "cell_type": "code",
      "source": [
        "# Compile the model\n",
        "model_1.compile(loss=\"sparse_categorical_crossentropy\",\n",
        "                optimizer=tf.keras.optimizers.Adam(),\n",
        "                metrics=[\"accuracy\"])"
      ],
      "metadata": {
        "id": "LKtUZWtpYZAA"
      },
      "execution_count": 65,
      "outputs": []
    },
    {
      "cell_type": "code",
      "source": [
        "model_1.summary()"
      ],
      "metadata": {
        "id": "L1wnALgGeESI",
        "colab": {
          "base_uri": "https://localhost:8080/"
        },
        "outputId": "07750fdb-a749-4354-f95f-827ae211c90d"
      },
      "execution_count": 66,
      "outputs": [
        {
          "output_type": "stream",
          "name": "stdout",
          "text": [
            "Model: \"sequential_1\"\n",
            "_________________________________________________________________\n",
            " Layer (type)                Output Shape              Param #   \n",
            "=================================================================\n",
            " keras_layer (KerasLayer)    (None, 512)               256797824 \n",
            "                                                                 \n",
            " dense_4 (Dense)             (None, 128)               65664     \n",
            "                                                                 \n",
            " dense_5 (Dense)             (None, 128)               16512     \n",
            "                                                                 \n",
            " dense_6 (Dense)             (None, 128)               16512     \n",
            "                                                                 \n",
            " dense_7 (Dense)             (None, 128)               16512     \n",
            "                                                                 \n",
            " dense_8 (Dense)             (None, 4)                 516       \n",
            "                                                                 \n",
            "=================================================================\n",
            "Total params: 256913540 (980.05 MB)\n",
            "Trainable params: 115716 (452.02 KB)\n",
            "Non-trainable params: 256797824 (979.61 MB)\n",
            "_________________________________________________________________\n"
          ]
        }
      ]
    },
    {
      "cell_type": "code",
      "source": [
        "# Fit the model\n",
        "earlyStopping = tf.keras.callbacks.EarlyStopping(monitor=\"val_accuracy\",\n",
        "                                                 patience=4)\n",
        "\n",
        "model_1_history = model_1.fit(train_sentences,\n",
        "                              train_labels,\n",
        "                              epochs = 100,\n",
        "                              validation_data = (test_sentences, test_labels),\n",
        "                              callbacks=[earlyStopping])"
      ],
      "metadata": {
        "id": "yQSSPEVEZqVq",
        "colab": {
          "base_uri": "https://localhost:8080/"
        },
        "outputId": "750a1d65-2480-46b8-e290-212bdf21d665"
      },
      "execution_count": null,
      "outputs": [
        {
          "output_type": "stream",
          "name": "stdout",
          "text": [
            "Epoch 1/100\n",
            "1030/1030 [==============================] - 22s 15ms/step - loss: 1.3082 - accuracy: 0.3791 - val_loss: 1.2842 - val_accuracy: 0.3926\n",
            "Epoch 2/100\n",
            "1030/1030 [==============================] - 15s 15ms/step - loss: 1.2278 - accuracy: 0.4402 - val_loss: 1.2716 - val_accuracy: 0.4044\n",
            "Epoch 3/100\n",
            "1030/1030 [==============================] - 17s 17ms/step - loss: 1.1626 - accuracy: 0.4858 - val_loss: 1.2537 - val_accuracy: 0.4269\n",
            "Epoch 4/100\n",
            "1030/1030 [==============================] - 16s 15ms/step - loss: 1.0983 - accuracy: 0.5211 - val_loss: 1.2976 - val_accuracy: 0.4231\n",
            "Epoch 5/100\n",
            "1030/1030 [==============================] - 15s 15ms/step - loss: 1.0321 - accuracy: 0.5577 - val_loss: 1.3226 - val_accuracy: 0.4241\n",
            "Epoch 6/100\n",
            "1030/1030 [==============================] - 15s 15ms/step - loss: 0.9658 - accuracy: 0.5913 - val_loss: 1.3583 - val_accuracy: 0.4270\n",
            "Epoch 7/100\n",
            "1030/1030 [==============================] - 15s 15ms/step - loss: 0.9069 - accuracy: 0.6204 - val_loss: 1.3843 - val_accuracy: 0.4355\n",
            "Epoch 8/100\n",
            "1030/1030 [==============================] - 16s 16ms/step - loss: 0.8523 - accuracy: 0.6457 - val_loss: 1.5116 - val_accuracy: 0.4277\n",
            "Epoch 9/100\n",
            "1030/1030 [==============================] - 15s 14ms/step - loss: 0.8001 - accuracy: 0.6645 - val_loss: 1.6754 - val_accuracy: 0.4222\n",
            "Epoch 10/100\n",
            " 381/1030 [==========>...................] - ETA: 7s - loss: 0.7178 - accuracy: 0.7023"
          ]
        }
      ]
    },
    {
      "cell_type": "code",
      "source": [
        "# Evaluate the model's result\n",
        "model_1_pred_probs = model_1.predict([\"word\"])\n",
        "model_1_pred_probs[:10]"
      ],
      "metadata": {
        "id": "GzIg52CHaURd",
        "colab": {
          "base_uri": "https://localhost:8080/"
        },
        "outputId": "48cde1bb-3faa-4a0a-ff7a-ab6388cb3bac"
      },
      "execution_count": 68,
      "outputs": [
        {
          "metadata": {
            "tags": null
          },
          "name": "stdout",
          "output_type": "stream",
          "text": [
            "1/1 [==============================] - 1s 646ms/step\n"
          ]
        },
        {
          "data": {
            "text/plain": [
              "array([[0.01190012, 0.0137224 , 0.96831495, 0.00606259]], dtype=float32)"
            ]
          },
          "execution_count": 68,
          "metadata": {},
          "output_type": "execute_result"
        }
      ]
    },
    {
      "cell_type": "code",
      "source": [
        "# Predictions\n",
        "model_1_preds = tf.argmax(model_1_pred_probs, axis=1).numpy()\n",
        "#model_1_preds[:10]"
      ],
      "metadata": {
        "id": "goxvr8QifL2L"
      },
      "execution_count": 69,
      "outputs": []
    },
    {
      "cell_type": "code",
      "source": [
        "# Evaluate the predictions\n",
        "print(classes[tf.squeeze(model_1_preds)])"
      ],
      "metadata": {
        "id": "4oYVUeMofS2V",
        "colab": {
          "base_uri": "https://localhost:8080/"
        },
        "outputId": "75305298-a048-47f1-a8af-95140ffca2de"
      },
      "execution_count": 70,
      "outputs": [
        {
          "metadata": {
            "tags": null
          },
          "name": "stdout",
          "output_type": "stream",
          "text": [
            "El Pablo\n"
          ]
        }
      ]
    },
    {
      "cell_type": "code",
      "source": [
        "model_1.save(\"model_1\")"
      ],
      "metadata": {
        "id": "JYkRmLbc-4T5"
      },
      "execution_count": 71,
      "outputs": []
    },
    {
      "cell_type": "code",
      "source": [
        "# Create text vectorizer\n",
        "from tensorflow.keras.layers.experimental.preprocessing import TextVectorization\n",
        "length = 0\n",
        "\n",
        "for sentence in train_sentences:\n",
        "  length+=len(sentence)\n",
        "\n",
        "max_length = round(length / len(train_sentences) )\n",
        "\n",
        "text_vectorizer = TextVectorization(max_tokens=None, #how many words in the vocab are in our train sentences (auto add <OOV> if cap is small)\n",
        "                                    output_sequence_length = max_length,\n",
        "                                    standardize=\"lower_and_strip_punctuation\",\n",
        "                                    split=\"whitespace\",\n",
        "                                    ngrams=None, #Create groups of n words (1 if None)\n",
        "                                    output_mode=\"int\", # How to map tokens to numbers\n",
        "                                    )\n",
        "\n",
        "# Fit it to the training text\n",
        "text_vectorizer.adapt(train_sentences)"
      ],
      "metadata": {
        "id": "Zn8VAL3Wvpbx"
      },
      "execution_count": null,
      "outputs": []
    },
    {
      "cell_type": "code",
      "source": [
        "# Embedding layer\n",
        "from tensorflow.keras import layers\n",
        "\n",
        "embedding = layers.Embedding(input_dim=len(text_vectorizer.get_vocabulary()), # set input shape\n",
        "                             output_dim=512, # Output shape\n",
        "                             input_length=max_length # how long is each shape\n",
        "                             )\n",
        "embedding"
      ],
      "metadata": {
        "id": "JYyItv7Qwc1K",
        "colab": {
          "base_uri": "https://localhost:8080/"
        },
        "outputId": "14669b0d-9608-4f1f-82f0-bce6eac78609"
      },
      "execution_count": 73,
      "outputs": [
        {
          "output_type": "execute_result",
          "data": {
            "text/plain": [
              "<keras.src.layers.core.embedding.Embedding at 0x7c0aa6671e70>"
            ]
          },
          "metadata": {},
          "execution_count": 73
        }
      ]
    },
    {
      "cell_type": "code",
      "source": [
        "model_2 = tf.keras.Sequential([\n",
        "    layers.Input(shape=(1,), dtype=tf.string),\n",
        "    text_vectorizer,\n",
        "    embedding,\n",
        "    layers.LSTM(32, activation=\"relu\", return_sequences=True),\n",
        "    layers.Dropout(0.3),\n",
        "    layers.LSTM(32, activation=\"relu\"),\n",
        "    layers.Dense(4, activation=\"softmax\")\n",
        "])\n",
        "\n",
        "# Compile the model\n",
        "model_2.compile(loss=\"sparse_categorical_crossentropy\",\n",
        "                optimizer=tf.keras.optimizers.Adam(lr=0.001),\n",
        "                metrics=[\"accuracy\"])\n",
        "\n",
        "# Fit the model\n",
        "earlyStopping = tf.keras.callbacks.EarlyStopping(monitor=\"val_accuracy\",\n",
        "                                                 patience=4)\n",
        "model_2_history = model_2.fit(train_sentences,\n",
        "                              train_labels,\n",
        "                              epochs = 100,\n",
        "                              validation_data=(test_sentences,test_labels),\n",
        "                              validation_steps = len(test_sentences),\n",
        "                              callbacks=[earlyStopping])"
      ],
      "metadata": {
        "id": "haLKe79NzPa1"
      },
      "execution_count": null,
      "outputs": []
    },
    {
      "cell_type": "code",
      "source": [
        "# evaluate model\n",
        "model_2_pred_probs = model_2.predict(test_sentences)\n",
        "model_2_preds = tf.argmax(model_2_pred_probs, axis=1).numpy()\n",
        "\n",
        "evaluate(model_2_preds, test_labels)"
      ],
      "metadata": {
        "colab": {
          "base_uri": "https://localhost:8080/"
        },
        "id": "aEhQFMskbXCO",
        "outputId": "b7aad7b5-d4c7-4760-cbe7-269adaa622f2"
      },
      "execution_count": 75,
      "outputs": [
        {
          "output_type": "stream",
          "name": "stdout",
          "text": [
            "258/258 [==============================] - 3s 11ms/step\n"
          ]
        },
        {
          "output_type": "execute_result",
          "data": {
            "text/plain": [
              "{'accuracy': 46.514452271071164}"
            ]
          },
          "metadata": {},
          "execution_count": 75
        }
      ]
    },
    {
      "cell_type": "code",
      "source": [
        "embedding(text_vectorizer([\"mexico on top\"]))\n"
      ],
      "metadata": {
        "id": "8rHEL72HeGEP"
      },
      "execution_count": null,
      "outputs": []
    },
    {
      "cell_type": "markdown",
      "source": [
        "## Model 3"
      ],
      "metadata": {
        "id": "_AVDSsoVxnuD"
      }
    },
    {
      "cell_type": "code",
      "source": [
        "# Create a model using sentence encoder and Dense layers\n",
        "from tensorflow.keras import layers\n",
        "import tensorflow as tf\n",
        "\n",
        "model_3 = tf.keras.Sequential([\n",
        "    layers.Input(shape=(1,), dtype=tf.string),\n",
        "    text_vectorizer,\n",
        "    embedding,\n",
        "    layers.LSTM(128, activation=\"relu\"),\n",
        "    layers.Dropout(0.3),\n",
        "    layers.Dense(64, activation=\"relu\"),\n",
        "    layers.Dense(32, activation=\"relu\"),\n",
        "    layers.Dropout(0.25),\n",
        "    layers.Dense(16, activation=\"relu\"),\n",
        "    layers.Dense(4, activation=\"softmax\")\n",
        "])"
      ],
      "metadata": {
        "id": "JOj3Xaqmxopu"
      },
      "execution_count": null,
      "outputs": []
    },
    {
      "cell_type": "code",
      "source": [
        "model_3.summary()"
      ],
      "metadata": {
        "id": "4g0HyX7Ex748"
      },
      "execution_count": null,
      "outputs": []
    },
    {
      "cell_type": "code",
      "source": [
        "# Compile the model\n",
        "model_3.compile(loss=\"sparse_categorical_crossentropy\",\n",
        "                optimizer=tf.keras.optimizers.Adam(lr=0.001),\n",
        "                metrics=[\"accuracy\"])\n",
        "\n",
        "# Fit the model\n",
        "earlyStopping = tf.keras.callbacks.EarlyStopping(monitor=\"val_accuracy\",\n",
        "                                                 patience=4)\n",
        "\n",
        "model_3_history = model_3.fit(train_sentences,\n",
        "                              train_labels,\n",
        "                              epochs = 100,\n",
        "                              validation_data = (test_sentences, test_labels),\n",
        "                              callbacks=[earlyStopping])"
      ],
      "metadata": {
        "id": "MBXJrXi6x0hq"
      },
      "execution_count": null,
      "outputs": []
    },
    {
      "cell_type": "code",
      "source": [
        "model_3.summary()"
      ],
      "metadata": {
        "colab": {
          "base_uri": "https://localhost:8080/"
        },
        "id": "m5xC8myeQdli",
        "outputId": "49e47e5f-a56d-4b71-b5b7-b142a34f89e9"
      },
      "execution_count": 80,
      "outputs": [
        {
          "output_type": "stream",
          "name": "stdout",
          "text": [
            "Model: \"sequential_3\"\n",
            "_________________________________________________________________\n",
            " Layer (type)                Output Shape              Param #   \n",
            "=================================================================\n",
            " text_vectorization_1 (Text  (None, 19)                0         \n",
            " Vectorization)                                                  \n",
            "                                                                 \n",
            " embedding_1 (Embedding)     (None, 19, 512)           6558208   \n",
            "                                                                 \n",
            " lstm_3 (LSTM)               (None, 128)               328192    \n",
            "                                                                 \n",
            " dropout_3 (Dropout)         (None, 128)               0         \n",
            "                                                                 \n",
            " dense_10 (Dense)            (None, 64)                8256      \n",
            "                                                                 \n",
            " dense_11 (Dense)            (None, 32)                2080      \n",
            "                                                                 \n",
            " dropout_4 (Dropout)         (None, 32)                0         \n",
            "                                                                 \n",
            " dense_12 (Dense)            (None, 16)                528       \n",
            "                                                                 \n",
            " dense_13 (Dense)            (None, 4)                 68        \n",
            "                                                                 \n",
            "=================================================================\n",
            "Total params: 6897332 (26.31 MB)\n",
            "Trainable params: 6897332 (26.31 MB)\n",
            "Non-trainable params: 0 (0.00 Byte)\n",
            "_________________________________________________________________\n"
          ]
        }
      ]
    },
    {
      "cell_type": "code",
      "source": [
        "# Predict\n",
        "model_3_pred_probs = model_3.predict([\"i hate coding\"])\n",
        "model_3_preds = tf.argmax(model_3_pred_probs, axis=1).numpy()\n",
        "print(classes[model_3_preds.tolist()[0]])"
      ],
      "metadata": {
        "id": "KnBMLpah1vif"
      },
      "execution_count": null,
      "outputs": []
    },
    {
      "cell_type": "code",
      "source": [
        "\n",
        "model_3.save(\"model_3\")"
      ],
      "metadata": {
        "id": "Lj-F-ivFN2In"
      },
      "execution_count": 82,
      "outputs": []
    }
  ]
}